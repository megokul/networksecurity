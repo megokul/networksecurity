{
 "cells": [
  {
   "cell_type": "code",
   "execution_count": 1,
   "id": "bf6e1a9e",
   "metadata": {},
   "outputs": [
    {
     "name": "stdout",
     "output_type": "stream",
     "text": [
      "e:\\MyProjects\\networksecurity\\research\n",
      "e:\\MyProjects\\networksecurity\n"
     ]
    }
   ],
   "source": [
    "import os\n",
    "\n",
    "print(os.getcwd())\n",
    "# Go one directory up\n",
    "os.chdir(\"..\")\n",
    "# Print the current working directory\n",
    "print(os.getcwd())"
   ]
  },
  {
   "cell_type": "code",
   "execution_count": 2,
   "id": "cf83fb32",
   "metadata": {},
   "outputs": [
    {
     "name": "stdout",
     "output_type": "stream",
     "text": [
      "e:\\MyProjects\\networksecurity\n"
     ]
    }
   ],
   "source": [
    "print(os.getcwd())"
   ]
  },
  {
   "cell_type": "code",
   "execution_count": null,
   "id": "68056dc8",
   "metadata": {},
   "outputs": [],
   "source": [
    "from src.networksecurity.constants import CONFIG_FILE_PATH, PARAMS_FILE_PATH, SCHEMA_FILE_PATH\n",
    "from ensure import ensure_annotations\n",
    "import yaml\n",
    "from box import ConfigBox\n",
    "from box.exceptions import BoxKeyError, BoxTypeError, BoxValueError\n",
    "from ensure import ensure_annotations\n",
    "from pathlib import Path\n",
    "from src.networksecurity.exception.exception import NetworkSecurityError\n",
    "from src.networksecurity.logging import logger\n",
    "\n",
    "print(CONFIG_FILE_PATH)\n",
    "print(PARAMS_FILE_PATH)\n",
    "print(SCHEMA_FILE_PATH)\n",
    "\n",
    "print()\n",
    "\n",
    "print(type(CONFIG_FILE_PATH))\n",
    "print(type(PARAMS_FILE_PATH))\n",
    "print(type(SCHEMA_FILE_PATH))\n",
    "\n",
    "@ensure_annotations\n",
    "def read_yaml(path_to_yaml: Path) -> ConfigBox:\n",
    "    \"\"\"Read and parse a YAML file into a ConfigBox object.\n",
    "\n",
    "    Args:\n",
    "        path_to_yaml (Path): Path to the YAML file.\n",
    "\n",
    "    Returns:\n",
    "        ConfigBox: Parsed content with dot-access enabled.\n",
    "\n",
    "    Raises:\n",
    "        NetworkSecurityError: If the file is missing, empty, or invalid.\n",
    "\n",
    "    \"\"\"\n",
    "    if not path_to_yaml.exists():\n",
    "        msg = f\"YAML file not found: '{path_to_yaml}'\"\n",
    "        logger.error(msg)  # Log missing file\n",
    "        raise NetworkSecurityError(FileNotFoundError(msg), logger)  # Raise custom exception\n",
    "\n",
    "    try:\n",
    "        with path_to_yaml.open(\"r\") as f:\n",
    "            content = yaml.safe_load(f)  # Load YAML safely into Python dictionary\n",
    "\n",
    "    except (BoxValueError, BoxTypeError, BoxKeyError, yaml.YAMLError) as e:\n",
    "        logger.error(f\"Failed to load YAML from {path_to_yaml}: {e}\")  # Log known parsing errors\n",
    "        raise NetworkSecurityError(e, logger) from e  # Wrap and re-raise as custom error\n",
    "\n",
    "    except Exception as e:\n",
    "        logger.error(f\"Unexpected error reading YAML file: {e}\")  # Catch-all for unforeseen issues\n",
    "        raise NetworkSecurityError(e, logger) from e\n",
    "\n",
    "    if content is None:\n",
    "        msg = \"YAML file is empty or improperly formatted.\"\n",
    "        logger.error(msg)  # Log empty content case\n",
    "        raise NetworkSecurityError(ValueError(msg), logger)  # Raise custom exception\n",
    "\n",
    "    logger.info(f\"YAML loaded successfully from: '{path_to_yaml}'\")  # Log success\n",
    "    return ConfigBox(content)  # Return dot-accessible config object\n",
    "\n",
    "content = read_yaml(CONFIG_FILE_PATH)\n",
    "\n",
    "print(content)"
   ]
  },
  {
   "cell_type": "code",
   "execution_count": null,
   "id": "557d453e",
   "metadata": {},
   "outputs": [],
   "source": [
    "\n"
   ]
  },
  {
   "cell_type": "code",
   "execution_count": 3,
   "id": "b7463858",
   "metadata": {},
   "outputs": [],
   "source": [
    "\n",
    "\n",
    "import json\n",
    "from pathlib import Path\n",
    "\n",
    "import pandas as pd\n",
    "import yaml\n",
    "from box import ConfigBox\n",
    "from box.exceptions import BoxKeyError, BoxTypeError, BoxValueError\n",
    "from ensure import ensure_annotations\n",
    "\n",
    "from src.networksecurity.exception.exception import NetworkSecurityError\n",
    "from src.networksecurity.logging import logger\n",
    "\n",
    "from pathlib import Path\n",
    "\n",
    "CONFIG_FILE_PATH = Path(\"config/config.yaml\")\n",
    "PARAMS_FILE_PATH = Path(\"config/params.yaml\")\n",
    "SCHEMA_FILE_PATH = Path(\"config/schema.yaml\")\n",
    "\n",
    "\"\"\"Utility to read YAML configuration files and create directories.\n",
    "\n",
    "Provides structured error handling, logging, and dot-access to configs.\n",
    "\"\"\"\n",
    "\n",
    "from pathlib import Path\n",
    "from typing import Union\n",
    "\n",
    "import yaml\n",
    "from box import ConfigBox\n",
    "from box.exceptions import BoxKeyError, BoxTypeError, BoxValueError\n",
    "from ensure import ensure_annotations\n",
    "\n",
    "from src.networksecurity.exception.exception import NetworkSecurityError\n",
    "from src.networksecurity.logging import logger\n",
    "\n",
    "@ensure_annotations\n",
    "def read_yaml(path_to_yaml: Path) -> ConfigBox:\n",
    "    \"\"\"\n",
    "    Reads a YAML file and returns its content as a Configbox object.\n",
    "\n",
    "    Args:\n",
    "        path_to_yaml (Path): Path to the YAML file.\n",
    "\n",
    "    Returns:\n",
    "        Configbox: Parsed content of the YAML file.\n",
    "\n",
    "    Raises:\n",
    "        ValueError: If the YAML file is empty.\n",
    "        Exception: If any other error occurs during reading the YAML file.\n",
    "    \"\"\"\n",
    "    try:\n",
    "        with Path.open(path_to_yaml) as yaml_file:  # Open YAML file\n",
    "            content = yaml.safe_load(yaml_file)  # Load content safely to prevent code execution\n",
    "            logger.info(f\"yaml file: '{path_to_yaml}' loaded successfully\")  # Log successful loading\n",
    "            return ConfigBox(content)  # Convert loaded data to Configbox object for easy access\n",
    "    except BoxValueError:\n",
    "        msg = \"yaml file is empty\"\n",
    "        raise ValueError(msg)  # Handle case where YAML content is empty\n",
    "    except Exception:\n",
    "        raise\n",
    "\n",
    "\n",
    "@ensure_annotations\n",
    "def create_directories(*paths: Path) -> None:\n",
    "    \"\"\"Create one or more directories with parent directories as needed.\n",
    "\n",
    "    Args:\n",
    "        *paths (Union[str, Path]): One or more directory paths to create.\n",
    "\n",
    "    Raises:\n",
    "        NetworkSecurityError: If an unexpected error occurs.\n",
    "\n",
    "    \"\"\"\n",
    "    try:\n",
    "        for path in paths:\n",
    "            Path(path).mkdir(parents=True, exist_ok=True)\n",
    "            logger.info(f\"Created directory at: '{path}'\")\n",
    "    except Exception as e:\n",
    "        raise NetworkSecurityError(e, logger) from e\n"
   ]
  },
  {
   "cell_type": "code",
   "execution_count": 4,
   "id": "36af663b",
   "metadata": {},
   "outputs": [
    {
     "name": "stdout",
     "output_type": "stream",
     "text": [
      "[2025-04-10 22:16:44,151] - INFO - 3564931366 - yaml file: 'config\\config.yaml' loaded successfully\n"
     ]
    },
    {
     "data": {
      "text/plain": [
       "ConfigBox({'artifacts_root': 'artifacts', 'database': {'root_dir': 'artifacts/database', 'input_data_path': 'network_data/input_csv/phisingData.csv', 'json_data_filename': 'input_data_json.json'}, 'data_ingestion': {'root_dir': None}, 'data_validation': {'root_dir': None}, 'data_transformation': {'root_dir': None}, 'model_trainer': {'root_dir': None}, 'model_evaluation': {'root_dir': None}, 'model_prediction': {'root_dir': None}})"
      ]
     },
     "execution_count": 4,
     "metadata": {},
     "output_type": "execute_result"
    }
   ],
   "source": [
    "config_filepath=CONFIG_FILE_PATH\n",
    "\n",
    "config_filepath\n",
    "\n",
    "content = read_yaml(config_filepath)\n",
    "content"
   ]
  },
  {
   "cell_type": "code",
   "execution_count": null,
   "id": "cdd10a6d",
   "metadata": {},
   "outputs": [],
   "source": []
  },
  {
   "cell_type": "code",
   "execution_count": null,
   "id": "95cd574d",
   "metadata": {},
   "outputs": [],
   "source": []
  },
  {
   "cell_type": "code",
   "execution_count": null,
   "id": "636aa091",
   "metadata": {},
   "outputs": [],
   "source": [
    "\"\"\"Manages reading and structuring configuration data from YAML files.\"\"\"\n",
    "\n",
    "from pathlib import Path\n",
    "\n",
    "\n",
    "from src.networksecurity.constants import (\n",
    "    CONFIG_FILE_PATH,\n",
    "    PARAMS_FILE_PATH,\n",
    "    SCHEMA_FILE_PATH,\n",
    ")\n",
    "\n",
    "class ConfigurationManager:\n",
    "    \"\"\"Loads and manages structured YAML config, params, and schema.\"\"\"\n",
    "\n",
    "    def __init__(\n",
    "        self,\n",
    "        config_filepath = CONFIG_FILE_PATH,\n",
    "        params_filepath = PARAMS_FILE_PATH,\n",
    "        schema_filepath = SCHEMA_FILE_PATH,\n",
    "    ) -> None:\n",
    "        self.config = read_yaml(config_filepath)\n",
    "        self.params = read_yaml(params_filepath)\n",
    "        self.schema = read_yaml(schema_filepath)\n",
    "\n",
    "        # Ensure root artifact directory exists\n",
    "        create_directories(self.config.artifacts_root)\n"
   ]
  },
  {
   "cell_type": "code",
   "execution_count": null,
   "id": "bb4c9783",
   "metadata": {},
   "outputs": [],
   "source": [
    "config_filepath=CONFIG_FILE_PATH\n",
    "\n",
    "config_filepath"
   ]
  },
  {
   "cell_type": "code",
   "execution_count": null,
   "id": "d08498d9",
   "metadata": {},
   "outputs": [],
   "source": [
    "@ensure_annotations\n",
    "def read_yaml(path_to_yaml: Path) -> ConfigBox:\n",
    "    \"\"\"\n",
    "    Reads a YAML file and returns its content as a Configbox object.\n",
    "\n",
    "    Args:\n",
    "        path_to_yaml (Path): Path to the YAML file.\n",
    "\n",
    "    Returns:\n",
    "        Configbox: Parsed content of the YAML file.\n",
    "\n",
    "    Raises:\n",
    "        ValueError: If the YAML file is empty.\n",
    "        Exception: If any other error occurs during reading the YAML file.\n",
    "    \"\"\"\n",
    "    try:\n",
    "        with open(path_to_yaml) as yaml_file:  # Open YAML file\n",
    "            content = yaml.safe_load(yaml_file)  # Load content safely to prevent code execution\n",
    "            logger.info(f\"yaml file: '{path_to_yaml}' loaded successfully\")  # Log successful loading\n",
    "            return ConfigBox(content)  # Convert loaded data to Configbox object for easy access\n",
    "    except BoxValueError:\n",
    "        raise ValueError(\"yaml file is empty\")  # Handle case where YAML content is empty\n",
    "    except Exception as e:\n",
    "        raise e  # Propagate other exceptions\n",
    "\n",
    "content = read_yaml(config_filepath)\n",
    "content"
   ]
  },
  {
   "cell_type": "markdown",
   "id": "709a7297",
   "metadata": {},
   "source": []
  },
  {
   "cell_type": "code",
   "execution_count": null,
   "id": "b66c25e4",
   "metadata": {},
   "outputs": [],
   "source": [
    "print(type(config_filepath))"
   ]
  },
  {
   "cell_type": "code",
   "execution_count": null,
   "id": "1727f077",
   "metadata": {},
   "outputs": [],
   "source": [
    "@ensure_annotations\n",
    "def read_yaml(path_to_yaml: Path) -> ConfigBox:\n",
    "    \"\"\"\n",
    "    Reads a YAML file and returns its content as a Configbox object.\n",
    "\n",
    "    Args:\n",
    "        path_to_yaml (Path): Path to the YAML file.\n",
    "\n",
    "    Returns:\n",
    "        Configbox: Parsed content of the YAML file.\n",
    "\n",
    "    Raises:\n",
    "        ValueError: If the YAML file is empty.\n",
    "        Exception: If any other error occurs during reading the YAML file.\n",
    "    \"\"\"\n",
    "    try:\n",
    "        with open(path_to_yaml) as yaml_file:  # Open YAML file\n",
    "            content = yaml.safe_load(yaml_file)  # Load content safely to prevent code execution\n",
    "            logger.info(f\"yaml file: '{path_to_yaml}' loaded successfully\")  # Log successful loading\n",
    "            return ConfigBox(content)  # Convert loaded data to Configbox object for easy access\n",
    "    except BoxValueError:\n",
    "        raise ValueError(\"yaml file is empty\")  # Handle case where YAML content is empty\n",
    "    except Exception as e:\n",
    "        raise e  # Propagate other exceptions\n"
   ]
  },
  {
   "cell_type": "code",
   "execution_count": null,
   "id": "02cf0ba4",
   "metadata": {},
   "outputs": [],
   "source": [
    "CONFIG_FILE_PATH"
   ]
  },
  {
   "cell_type": "code",
   "execution_count": null,
   "id": "59cd09a2",
   "metadata": {},
   "outputs": [],
   "source": [
    "read_yaml(CONFIG_FILE_PATH)"
   ]
  },
  {
   "cell_type": "code",
   "execution_count": null,
   "id": "25a7e0d5",
   "metadata": {},
   "outputs": [],
   "source": []
  },
  {
   "cell_type": "code",
   "execution_count": null,
   "id": "1ca84b58",
   "metadata": {},
   "outputs": [],
   "source": []
  }
 ],
 "metadata": {
  "kernelspec": {
   "display_name": "Python 3",
   "language": "python",
   "name": "python3"
  },
  "language_info": {
   "codemirror_mode": {
    "name": "ipython",
    "version": 3
   },
   "file_extension": ".py",
   "mimetype": "text/x-python",
   "name": "python",
   "nbconvert_exporter": "python",
   "pygments_lexer": "ipython3",
   "version": "3.10.0"
  }
 },
 "nbformat": 4,
 "nbformat_minor": 5
}
